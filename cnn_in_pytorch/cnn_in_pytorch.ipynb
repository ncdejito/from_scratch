{
  "nbformat": 4,
  "nbformat_minor": 0,
  "metadata": {
    "kernelspec": {
      "name": "python3",
      "display_name": "Python 3"
    },
    "colab": {
      "name": "cnn_in_pytorch.ipynb",
      "version": "0.3.2",
      "provenance": [],
      "collapsed_sections": [
        "PDJ1L8ZSmhMd",
        "vuDIsn6mjzmj"
      ]
    },
    "accelerator": "GPU"
  },
  "cells": [
    {
      "cell_type": "code",
      "metadata": {
        "id": "Ufk6MeqmmpkA",
        "colab_type": "code",
        "colab": {}
      },
      "source": [
        "# CNN in pytorch as raw as you can\n",
        "# Goals resnet18, accuracy=0.968597, using only nn.sequential, build blocks"
      ],
      "execution_count": 0,
      "outputs": []
    },
    {
      "cell_type": "code",
      "metadata": {
        "id": "xedY2PSHmhMU",
        "colab_type": "code",
        "colab": {}
      },
      "source": [
        "%reload_ext autoreload\n",
        "%autoreload 2\n",
        "%matplotlib inline"
      ],
      "execution_count": 0,
      "outputs": []
    },
    {
      "cell_type": "code",
      "metadata": {
        "id": "y7bg_s4amhMa",
        "colab_type": "code",
        "colab": {}
      },
      "source": [
        "from fastai.vision import *"
      ],
      "execution_count": 0,
      "outputs": []
    },
    {
      "cell_type": "markdown",
      "metadata": {
        "id": "PDJ1L8ZSmhMd",
        "colab_type": "text"
      },
      "source": [
        "## Data"
      ]
    },
    {
      "cell_type": "code",
      "metadata": {
        "id": "A1QVlI_MRKAI",
        "colab_type": "code",
        "outputId": "97697659-4852-493c-840c-4169e75c6bec",
        "colab": {
          "base_uri": "https://localhost:8080/",
          "height": 34
        }
      },
      "source": [
        "path = untar_data(URLs.MNIST_SAMPLE)\n",
        "path"
      ],
      "execution_count": 4,
      "outputs": [
        {
          "output_type": "execute_result",
          "data": {
            "text/plain": [
              "PosixPath('/root/.fastai/data/mnist_sample')"
            ]
          },
          "metadata": {
            "tags": []
          },
          "execution_count": 4
        }
      ]
    },
    {
      "cell_type": "code",
      "metadata": {
        "id": "H3ITZ6WLRMRl",
        "colab_type": "code",
        "colab": {}
      },
      "source": [
        "data = ImageDataBunch.from_folder(path) # batch size=64"
      ],
      "execution_count": 0,
      "outputs": []
    },
    {
      "cell_type": "code",
      "metadata": {
        "id": "gCzSvNOZRZ6C",
        "colab_type": "code",
        "outputId": "34582185-f5ef-4281-ce4b-13faa40832be",
        "colab": {
          "base_uri": "https://localhost:8080/",
          "height": 302
        }
      },
      "source": [
        "data # mnist sample has 3 dimensions"
      ],
      "execution_count": 6,
      "outputs": [
        {
          "output_type": "execute_result",
          "data": {
            "text/plain": [
              "ImageDataBunch;\n",
              "\n",
              "Train: LabelList (12396 items)\n",
              "x: ImageList\n",
              "Image (3, 28, 28),Image (3, 28, 28),Image (3, 28, 28),Image (3, 28, 28),Image (3, 28, 28)\n",
              "y: CategoryList\n",
              "3,3,3,3,3\n",
              "Path: /root/.fastai/data/mnist_sample;\n",
              "\n",
              "Valid: LabelList (2038 items)\n",
              "x: ImageList\n",
              "Image (3, 28, 28),Image (3, 28, 28),Image (3, 28, 28),Image (3, 28, 28),Image (3, 28, 28)\n",
              "y: CategoryList\n",
              "3,3,3,3,3\n",
              "Path: /root/.fastai/data/mnist_sample;\n",
              "\n",
              "Test: None"
            ]
          },
          "metadata": {
            "tags": []
          },
          "execution_count": 6
        }
      ]
    },
    {
      "cell_type": "code",
      "metadata": {
        "id": "VNP_NCeyFmY9",
        "colab_type": "code",
        "colab": {
          "base_uri": "https://localhost:8080/",
          "height": 67
        },
        "outputId": "1f88fc6d-c895-49aa-8111-c8062818f350"
      },
      "source": [
        "data.x"
      ],
      "execution_count": 11,
      "outputs": [
        {
          "output_type": "execute_result",
          "data": {
            "text/plain": [
              "ImageList (12396 items)\n",
              "Image (3, 28, 28),Image (3, 28, 28),Image (3, 28, 28),Image (3, 28, 28),Image (3, 28, 28)\n",
              "Path: /root/.fastai/data/mnist_sample"
            ]
          },
          "metadata": {
            "tags": []
          },
          "execution_count": 11
        }
      ]
    },
    {
      "cell_type": "code",
      "metadata": {
        "id": "Hu9fGdzMHRCe",
        "colab_type": "code",
        "outputId": "a711dcf2-8f98-4bfa-d24b-e2231f90d87c",
        "colab": {
          "base_uri": "https://localhost:8080/",
          "height": 0
        }
      },
      "source": [
        "# z = data.x[0:64]\n",
        "# z\n",
        "# # 3 dimensions are equal\n",
        "# (z[0] == z[2]).sum() # 28x28"
      ],
      "execution_count": 12,
      "outputs": [
        {
          "output_type": "execute_result",
          "data": {
            "text/plain": [
              "ImageList (64 items)\n",
              "Image (3, 28, 28),Image (3, 28, 28),Image (3, 28, 28),Image (3, 28, 28),Image (3, 28, 28)\n",
              "Path: /root/.fastai/data/mnist_sample"
            ]
          },
          "metadata": {
            "tags": []
          },
          "execution_count": 12
        }
      ]
    },
    {
      "cell_type": "markdown",
      "metadata": {
        "id": "d2qkmq3xnqLS",
        "colab_type": "text"
      },
      "source": [
        "## Recreate ResNet18"
      ]
    },
    {
      "cell_type": "code",
      "metadata": {
        "id": "eGWUppRAIe2q",
        "colab_type": "code",
        "colab": {}
      },
      "source": [
        "m = nn.Sequential(\n",
        "        nn.Conv2d(64, 128, kernel_size=3, stride=2,padding=1, bias=False)\n",
        "        , nn.BatchNorm2d(128)\n",
        "        , nn.ReLU(inplace=True)\n",
        "        , nn.Conv2d(128, 128, kernel_size=3, stride=1,padding=1, bias=False)\n",
        "        , nn.BatchNorm2d(128)\n",
        ")"
      ],
      "execution_count": 0,
      "outputs": []
    },
    {
      "cell_type": "code",
      "metadata": {
        "id": "Y9zpeYjWSA1G",
        "colab_type": "code",
        "colab": {}
      },
      "source": [
        "# Sense check sizes of input output in sequential models\n",
        "input = torch.randn(64, 3, 28, 28)\n",
        "# input = torch.randn(64, 64, 7, 7)\n",
        "output = model(input)\n",
        "# output = m(input)"
      ],
      "execution_count": 0,
      "outputs": []
    },
    {
      "cell_type": "code",
      "metadata": {
        "id": "7FM03tlgSIwA",
        "colab_type": "code",
        "outputId": "d6e923b2-5d37-4b37-955a-5aff8ae98af6",
        "colab": {
          "base_uri": "https://localhost:8080/",
          "height": 34
        }
      },
      "source": [
        "output.size()"
      ],
      "execution_count": 62,
      "outputs": [
        {
          "output_type": "execute_result",
          "data": {
            "text/plain": [
              "torch.Size([64, 2])"
            ]
          },
          "metadata": {
            "tags": []
          },
          "execution_count": 62
        }
      ]
    },
    {
      "cell_type": "code",
      "metadata": {
        "id": "vAvo9NIZkpng",
        "colab_type": "code",
        "outputId": "0d97ffda-d80d-477a-94bb-083cbd498c51",
        "colab": {
          "base_uri": "https://localhost:8080/",
          "height": 34
        }
      },
      "source": [
        "input.view(64,-1).size()\n",
        "# torch.flatten(input, 1).size()"
      ],
      "execution_count": 0,
      "outputs": [
        {
          "output_type": "execute_result",
          "data": {
            "text/plain": [
              "torch.Size([64, 512])"
            ]
          },
          "metadata": {
            "tags": []
          },
          "execution_count": 100
        }
      ]
    },
    {
      "cell_type": "code",
      "metadata": {
        "id": "yl8RNqrYggi8",
        "colab_type": "code",
        "colab": {}
      },
      "source": [
        "# source: https://stackoverflow.com/questions/53953460/how-to-flatten-input-in-nn-sequential-in-pytorch\n",
        "class Flatten(torch.nn.Module):\n",
        "    def forward(self, x):\n",
        "        return torch.flatten(x, 1)\n",
        "#         z = torch.flatten(x, 1)\n",
        "#         return torch.cat((z,z), dim = 1) # 1024 in end layer even if only 512?"
      ],
      "execution_count": 0,
      "outputs": []
    },
    {
      "cell_type": "code",
      "metadata": {
        "id": "SJlM9ybUgLnn",
        "colab_type": "code",
        "colab": {}
      },
      "source": [
        "class BasicBlock(nn.Module):\n",
        "    expansion = 1\n",
        "\n",
        "    def __init__(self, inplanes, planes, stride=1, downsample=None):\n",
        "        super(BasicBlock, self).__init__()\n",
        "        self.conv1 = nn.Conv2d(inplanes, planes, kernel_size=3, stride=stride,padding=1, bias=False)\n",
        "        self.bn1 = nn.BatchNorm2d(planes)\n",
        "        self.relu = nn.ReLU(inplace=True)\n",
        "        self.conv2 = nn.Conv2d(planes, planes, kernel_size=3, stride=1,padding=1, bias=False)\n",
        "        self.bn2 = nn.BatchNorm2d(planes)\n",
        "        self.downsample = downsample\n",
        "        self.stride = stride\n",
        "\n",
        "    def forward(self, x):\n",
        "        identity = x\n",
        "\n",
        "        out = self.conv1(x)\n",
        "        out = self.bn1(out)\n",
        "        out = self.relu(out)\n",
        "\n",
        "        out = self.conv2(out)\n",
        "        out = self.bn2(out)\n",
        "\n",
        "        if self.downsample is not None:\n",
        "            identity = self.downsample(x)\n",
        "\n",
        "        out += identity\n",
        "        out = self.relu(out)\n",
        "\n",
        "        return out"
      ],
      "execution_count": 0,
      "outputs": []
    },
    {
      "cell_type": "code",
      "metadata": {
        "id": "HQGpNMmcEkbX",
        "colab_type": "code",
        "colab": {}
      },
      "source": [
        "downsampleL2 = nn.Sequential(\n",
        "    nn.Conv2d(64, 128*1, kernel_size=1, stride=2, bias=False)\n",
        "    ,nn.BatchNorm2d(128*1)\n",
        "            )"
      ],
      "execution_count": 0,
      "outputs": []
    },
    {
      "cell_type": "code",
      "metadata": {
        "id": "fauYcoPsMybX",
        "colab_type": "code",
        "colab": {}
      },
      "source": [
        "downsampleL3 = nn.Sequential(\n",
        "    nn.Conv2d(128, 256*1, kernel_size=1, stride=2, bias=False)\n",
        "    ,nn.BatchNorm2d(256*1)\n",
        "            )"
      ],
      "execution_count": 0,
      "outputs": []
    },
    {
      "cell_type": "code",
      "metadata": {
        "id": "Gysg6XC1N949",
        "colab_type": "code",
        "colab": {}
      },
      "source": [
        "downsampleL4 = nn.Sequential(\n",
        "    nn.Conv2d(256, 512*1, kernel_size=1, stride=2, bias=False)\n",
        "    ,nn.BatchNorm2d(512*1)\n",
        "            )"
      ],
      "execution_count": 0,
      "outputs": []
    },
    {
      "cell_type": "code",
      "metadata": {
        "id": "Mmzwfc-lR5IB",
        "colab_type": "code",
        "colab": {}
      },
      "source": [
        "class AdaptiveConcatPool2d(Module):\n",
        "    \"Layer that concats `AdaptiveAvgPool2d` and `AdaptiveMaxPool2d`.\"\n",
        "    def __init__(self, sz:Optional[int]=None):\n",
        "        \"Output will be 2*sz or 2 if sz is None\"\n",
        "        self.output_size = sz or 1\n",
        "        self.ap = nn.AdaptiveAvgPool2d(self.output_size)\n",
        "        self.mp = nn.AdaptiveMaxPool2d(self.output_size)\n",
        "\n",
        "    def forward(self, x): return torch.cat([self.mp(x), self.ap(x)], 1)"
      ],
      "execution_count": 0,
      "outputs": []
    },
    {
      "cell_type": "code",
      "metadata": {
        "id": "LAAWjzTtg8D5",
        "colab_type": "code",
        "colab": {}
      },
      "source": [
        "# Try using basic blocks for identity connections + compressed code\n",
        "# Resnet 18: https://arxiv.org/abs/1502.01852 Model A, Table 3 Page7\n",
        "model = nn.Sequential(\n",
        "    nn.Conv2d(3, 64, kernel_size=7, stride=2, padding=3,bias=False)\n",
        "    , nn.BatchNorm2d(64)\n",
        "    , nn.ReLU(inplace=True)\n",
        "    , nn.MaxPool2d(kernel_size=3, stride=2, padding=1)\n",
        "    \n",
        "    # Layer 1\n",
        "    , BasicBlock(64, 64, stride=1, downsample=None) # Block 1\n",
        "    , BasicBlock(64, 64, stride=1, downsample=None) # Block 2\n",
        "    # Layer 2\n",
        "    , BasicBlock(64, 128, stride=2, downsample = downsampleL2) # Block 1\n",
        "    , BasicBlock(128, 128, stride=1, downsample = None) # Block 2\n",
        "    # Layer 3\n",
        "    , BasicBlock(128, 256, stride=2, downsample = downsampleL3) # Block 1\n",
        "    , BasicBlock(256, 256, stride=1, downsample = None) # Block 2\n",
        "    # Layer 4\n",
        "    , BasicBlock(256, 512, stride=2, downsample = downsampleL4) # Block 1\n",
        "    , BasicBlock(512, 512, stride=1, downsample = None) # Block 2\n",
        "    \n",
        "    , AdaptiveConcatPool2d(1) # Custom fastai method\n",
        "#     , nn.Linear(in_features=512, out_features=1000, bias=True) # original output layer\n",
        "    \n",
        "    # Additional layers to adapt to any dataset\n",
        "    # Should be 1024 {\n",
        "    , Flatten()\n",
        "    , nn.BatchNorm1d(1024, eps=1e-05, momentum=0.1, affine=True, track_running_stats=True)\n",
        "    , nn.Dropout()\n",
        "    # }\n",
        "    , nn.Linear(in_features=1024, out_features=512, bias=True)\n",
        "    , nn.ReLU(inplace=True)\n",
        "    , nn.BatchNorm1d(512, eps=1e-05, momentum=0.1, affine=True, track_running_stats=True)\n",
        "    , nn.Dropout()\n",
        "    , nn.Linear(in_features=512, out_features=2, bias=True) # <-- edit out_features to number of classes\n",
        ")"
      ],
      "execution_count": 0,
      "outputs": []
    },
    {
      "cell_type": "code",
      "metadata": {
        "id": "p5HIMo_dmhO5",
        "colab_type": "code",
        "colab": {}
      },
      "source": [
        "learn = Learner(data, model, loss_func = nn.CrossEntropyLoss(), metrics=accuracy)"
      ],
      "execution_count": 0,
      "outputs": []
    },
    {
      "cell_type": "code",
      "metadata": {
        "id": "ZClr0bu7DRb_",
        "colab_type": "code",
        "outputId": "1574eb2d-8f69-4789-8c71-7f8c67ffe61c",
        "colab": {
          "base_uri": "https://localhost:8080/",
          "height": 1000
        }
      },
      "source": [
        "# your model\n",
        "learn.summary()"
      ],
      "execution_count": 67,
      "outputs": [
        {
          "output_type": "execute_result",
          "data": {
            "text/plain": [
              "Sequential\n",
              "======================================================================\n",
              "Layer (type)         Output Shape         Param #    Trainable \n",
              "======================================================================\n",
              "Conv2d               [64, 14, 14]         9,408      True      \n",
              "______________________________________________________________________\n",
              "BatchNorm2d          [64, 14, 14]         128        True      \n",
              "______________________________________________________________________\n",
              "ReLU                 [64, 14, 14]         0          False     \n",
              "______________________________________________________________________\n",
              "MaxPool2d            [64, 7, 7]           0          False     \n",
              "______________________________________________________________________\n",
              "Conv2d               [64, 7, 7]           36,864     True      \n",
              "______________________________________________________________________\n",
              "BatchNorm2d          [64, 7, 7]           128        True      \n",
              "______________________________________________________________________\n",
              "ReLU                 [64, 7, 7]           0          False     \n",
              "______________________________________________________________________\n",
              "Conv2d               [64, 7, 7]           36,864     True      \n",
              "______________________________________________________________________\n",
              "BatchNorm2d          [64, 7, 7]           128        True      \n",
              "______________________________________________________________________\n",
              "Conv2d               [64, 7, 7]           36,864     True      \n",
              "______________________________________________________________________\n",
              "BatchNorm2d          [64, 7, 7]           128        True      \n",
              "______________________________________________________________________\n",
              "ReLU                 [64, 7, 7]           0          False     \n",
              "______________________________________________________________________\n",
              "Conv2d               [64, 7, 7]           36,864     True      \n",
              "______________________________________________________________________\n",
              "BatchNorm2d          [64, 7, 7]           128        True      \n",
              "______________________________________________________________________\n",
              "Conv2d               [128, 4, 4]          73,728     True      \n",
              "______________________________________________________________________\n",
              "BatchNorm2d          [128, 4, 4]          256        True      \n",
              "______________________________________________________________________\n",
              "ReLU                 [128, 4, 4]          0          False     \n",
              "______________________________________________________________________\n",
              "Conv2d               [128, 4, 4]          147,456    True      \n",
              "______________________________________________________________________\n",
              "BatchNorm2d          [128, 4, 4]          256        True      \n",
              "______________________________________________________________________\n",
              "Conv2d               [128, 4, 4]          8,192      True      \n",
              "______________________________________________________________________\n",
              "BatchNorm2d          [128, 4, 4]          256        True      \n",
              "______________________________________________________________________\n",
              "Conv2d               [128, 4, 4]          147,456    True      \n",
              "______________________________________________________________________\n",
              "BatchNorm2d          [128, 4, 4]          256        True      \n",
              "______________________________________________________________________\n",
              "ReLU                 [128, 4, 4]          0          False     \n",
              "______________________________________________________________________\n",
              "Conv2d               [128, 4, 4]          147,456    True      \n",
              "______________________________________________________________________\n",
              "BatchNorm2d          [128, 4, 4]          256        True      \n",
              "______________________________________________________________________\n",
              "Conv2d               [256, 2, 2]          294,912    True      \n",
              "______________________________________________________________________\n",
              "BatchNorm2d          [256, 2, 2]          512        True      \n",
              "______________________________________________________________________\n",
              "ReLU                 [256, 2, 2]          0          False     \n",
              "______________________________________________________________________\n",
              "Conv2d               [256, 2, 2]          589,824    True      \n",
              "______________________________________________________________________\n",
              "BatchNorm2d          [256, 2, 2]          512        True      \n",
              "______________________________________________________________________\n",
              "Conv2d               [256, 2, 2]          32,768     True      \n",
              "______________________________________________________________________\n",
              "BatchNorm2d          [256, 2, 2]          512        True      \n",
              "______________________________________________________________________\n",
              "Conv2d               [256, 2, 2]          589,824    True      \n",
              "______________________________________________________________________\n",
              "BatchNorm2d          [256, 2, 2]          512        True      \n",
              "______________________________________________________________________\n",
              "ReLU                 [256, 2, 2]          0          False     \n",
              "______________________________________________________________________\n",
              "Conv2d               [256, 2, 2]          589,824    True      \n",
              "______________________________________________________________________\n",
              "BatchNorm2d          [256, 2, 2]          512        True      \n",
              "______________________________________________________________________\n",
              "Conv2d               [512, 1, 1]          1,179,648  True      \n",
              "______________________________________________________________________\n",
              "BatchNorm2d          [512, 1, 1]          1,024      True      \n",
              "______________________________________________________________________\n",
              "ReLU                 [512, 1, 1]          0          False     \n",
              "______________________________________________________________________\n",
              "Conv2d               [512, 1, 1]          2,359,296  True      \n",
              "______________________________________________________________________\n",
              "BatchNorm2d          [512, 1, 1]          1,024      True      \n",
              "______________________________________________________________________\n",
              "Conv2d               [512, 1, 1]          131,072    True      \n",
              "______________________________________________________________________\n",
              "BatchNorm2d          [512, 1, 1]          1,024      True      \n",
              "______________________________________________________________________\n",
              "Conv2d               [512, 1, 1]          2,359,296  True      \n",
              "______________________________________________________________________\n",
              "BatchNorm2d          [512, 1, 1]          1,024      True      \n",
              "______________________________________________________________________\n",
              "ReLU                 [512, 1, 1]          0          False     \n",
              "______________________________________________________________________\n",
              "Conv2d               [512, 1, 1]          2,359,296  True      \n",
              "______________________________________________________________________\n",
              "BatchNorm2d          [512, 1, 1]          1,024      True      \n",
              "______________________________________________________________________\n",
              "AdaptiveAvgPool2d    [512, 1, 1]          0          False     \n",
              "______________________________________________________________________\n",
              "AdaptiveMaxPool2d    [512, 1, 1]          0          False     \n",
              "______________________________________________________________________\n",
              "Flatten              [1024]               0          False     \n",
              "______________________________________________________________________\n",
              "BatchNorm1d          [1024]               2,048      True      \n",
              "______________________________________________________________________\n",
              "Dropout              [1024]               0          False     \n",
              "______________________________________________________________________\n",
              "Linear               [512]                524,800    True      \n",
              "______________________________________________________________________\n",
              "ReLU                 [512]                0          False     \n",
              "______________________________________________________________________\n",
              "BatchNorm1d          [512]                1,024      True      \n",
              "______________________________________________________________________\n",
              "Dropout              [512]                0          False     \n",
              "______________________________________________________________________\n",
              "Linear               [2]                  1,026      True      \n",
              "______________________________________________________________________\n",
              "\n",
              "Total params: 11,705,410\n",
              "Total trainable params: 11,705,410\n",
              "Total non-trainable params: 0\n",
              "Optimized with 'torch.optim.adam.Adam', betas=(0.9, 0.99)\n",
              "Using true weight decay as discussed in https://www.fast.ai/2018/07/02/adam-weight-decay/ \n",
              "Loss function : CrossEntropyLoss\n",
              "======================================================================\n",
              "Callbacks functions applied "
            ]
          },
          "metadata": {
            "tags": []
          },
          "execution_count": 67
        }
      ]
    },
    {
      "cell_type": "code",
      "metadata": {
        "id": "_gvh0SiPmhPA",
        "colab_type": "code",
        "colab": {}
      },
      "source": [
        "learn.lr_find(end_lr=100)\n",
        "learn.recorder.plot()"
      ],
      "execution_count": 0,
      "outputs": []
    },
    {
      "cell_type": "code",
      "metadata": {
        "id": "TMaWcoWVmhPH",
        "colab_type": "code",
        "colab": {}
      },
      "source": [
        "learn.fit_one_cycle(3, max_lr=0.05)"
      ],
      "execution_count": 0,
      "outputs": []
    },
    {
      "cell_type": "markdown",
      "metadata": {
        "id": "vuDIsn6mjzmj",
        "colab_type": "text"
      },
      "source": [
        "## Goal model architecture"
      ]
    },
    {
      "cell_type": "code",
      "metadata": {
        "id": "OyZOfZhFDlwF",
        "colab_type": "code",
        "outputId": "fec4a120-7e4c-42be-daaf-3c64382f6421",
        "colab": {
          "base_uri": "https://localhost:8080/",
          "height": 1000
        }
      },
      "source": [
        "# correct model for MNIST sample\n",
        "learn = cnn_learner(data, models.resnet18, metrics=accuracy)\n",
        "learn.summary()"
      ],
      "execution_count": 0,
      "outputs": [
        {
          "output_type": "execute_result",
          "data": {
            "text/plain": [
              "Sequential\n",
              "======================================================================\n",
              "Layer (type)         Output Shape         Param #    Trainable \n",
              "======================================================================\n",
              "Conv2d               [64, 14, 14]         9,408      False     \n",
              "______________________________________________________________________\n",
              "BatchNorm2d          [64, 14, 14]         128        True      \n",
              "______________________________________________________________________\n",
              "ReLU                 [64, 14, 14]         0          False     \n",
              "______________________________________________________________________\n",
              "MaxPool2d            [64, 7, 7]           0          False     \n",
              "______________________________________________________________________\n",
              "Conv2d               [64, 7, 7]           36,864     False     \n",
              "______________________________________________________________________\n",
              "BatchNorm2d          [64, 7, 7]           128        True      \n",
              "______________________________________________________________________\n",
              "ReLU                 [64, 7, 7]           0          False     \n",
              "______________________________________________________________________\n",
              "Conv2d               [64, 7, 7]           36,864     False     \n",
              "______________________________________________________________________\n",
              "BatchNorm2d          [64, 7, 7]           128        True      \n",
              "______________________________________________________________________\n",
              "Conv2d               [64, 7, 7]           36,864     False     \n",
              "______________________________________________________________________\n",
              "BatchNorm2d          [64, 7, 7]           128        True      \n",
              "______________________________________________________________________\n",
              "ReLU                 [64, 7, 7]           0          False     \n",
              "______________________________________________________________________\n",
              "Conv2d               [64, 7, 7]           36,864     False     \n",
              "______________________________________________________________________\n",
              "BatchNorm2d          [64, 7, 7]           128        True      \n",
              "______________________________________________________________________\n",
              "Conv2d               [128, 4, 4]          73,728     False     \n",
              "______________________________________________________________________\n",
              "BatchNorm2d          [128, 4, 4]          256        True      \n",
              "______________________________________________________________________\n",
              "ReLU                 [128, 4, 4]          0          False     \n",
              "______________________________________________________________________\n",
              "Conv2d               [128, 4, 4]          147,456    False     \n",
              "______________________________________________________________________\n",
              "BatchNorm2d          [128, 4, 4]          256        True      \n",
              "______________________________________________________________________\n",
              "Conv2d               [128, 4, 4]          8,192      False     \n",
              "______________________________________________________________________\n",
              "BatchNorm2d          [128, 4, 4]          256        True      \n",
              "______________________________________________________________________\n",
              "Conv2d               [128, 4, 4]          147,456    False     \n",
              "______________________________________________________________________\n",
              "BatchNorm2d          [128, 4, 4]          256        True      \n",
              "______________________________________________________________________\n",
              "ReLU                 [128, 4, 4]          0          False     \n",
              "______________________________________________________________________\n",
              "Conv2d               [128, 4, 4]          147,456    False     \n",
              "______________________________________________________________________\n",
              "BatchNorm2d          [128, 4, 4]          256        True      \n",
              "______________________________________________________________________\n",
              "Conv2d               [256, 2, 2]          294,912    False     \n",
              "______________________________________________________________________\n",
              "BatchNorm2d          [256, 2, 2]          512        True      \n",
              "______________________________________________________________________\n",
              "ReLU                 [256, 2, 2]          0          False     \n",
              "______________________________________________________________________\n",
              "Conv2d               [256, 2, 2]          589,824    False     \n",
              "______________________________________________________________________\n",
              "BatchNorm2d          [256, 2, 2]          512        True      \n",
              "______________________________________________________________________\n",
              "Conv2d               [256, 2, 2]          32,768     False     \n",
              "______________________________________________________________________\n",
              "BatchNorm2d          [256, 2, 2]          512        True      \n",
              "______________________________________________________________________\n",
              "Conv2d               [256, 2, 2]          589,824    False     \n",
              "______________________________________________________________________\n",
              "BatchNorm2d          [256, 2, 2]          512        True      \n",
              "______________________________________________________________________\n",
              "ReLU                 [256, 2, 2]          0          False     \n",
              "______________________________________________________________________\n",
              "Conv2d               [256, 2, 2]          589,824    False     \n",
              "______________________________________________________________________\n",
              "BatchNorm2d          [256, 2, 2]          512        True      \n",
              "______________________________________________________________________\n",
              "Conv2d               [512, 1, 1]          1,179,648  False     \n",
              "______________________________________________________________________\n",
              "BatchNorm2d          [512, 1, 1]          1,024      True      \n",
              "______________________________________________________________________\n",
              "ReLU                 [512, 1, 1]          0          False     \n",
              "______________________________________________________________________\n",
              "Conv2d               [512, 1, 1]          2,359,296  False     \n",
              "______________________________________________________________________\n",
              "BatchNorm2d          [512, 1, 1]          1,024      True      \n",
              "______________________________________________________________________\n",
              "Conv2d               [512, 1, 1]          131,072    False     \n",
              "______________________________________________________________________\n",
              "BatchNorm2d          [512, 1, 1]          1,024      True      \n",
              "______________________________________________________________________\n",
              "Conv2d               [512, 1, 1]          2,359,296  False     \n",
              "______________________________________________________________________\n",
              "BatchNorm2d          [512, 1, 1]          1,024      True      \n",
              "______________________________________________________________________\n",
              "ReLU                 [512, 1, 1]          0          False     \n",
              "______________________________________________________________________\n",
              "Conv2d               [512, 1, 1]          2,359,296  False     \n",
              "______________________________________________________________________\n",
              "BatchNorm2d          [512, 1, 1]          1,024      True      \n",
              "______________________________________________________________________\n",
              "AdaptiveAvgPool2d    [512, 1, 1]          0          False     \n",
              "______________________________________________________________________\n",
              "AdaptiveMaxPool2d    [512, 1, 1]          0          False     \n",
              "______________________________________________________________________\n",
              "Flatten              [1024]               0          False     \n",
              "______________________________________________________________________\n",
              "BatchNorm1d          [1024]               2,048      True      \n",
              "______________________________________________________________________\n",
              "Dropout              [1024]               0          False     \n",
              "______________________________________________________________________\n",
              "Linear               [512]                524,800    True      \n",
              "______________________________________________________________________\n",
              "ReLU                 [512]                0          False     \n",
              "______________________________________________________________________\n",
              "BatchNorm1d          [512]                1,024      True      \n",
              "______________________________________________________________________\n",
              "Dropout              [512]                0          False     \n",
              "______________________________________________________________________\n",
              "Linear               [2]                  1,026      True      \n",
              "______________________________________________________________________\n",
              "\n",
              "Total params: 11,705,410\n",
              "Total trainable params: 538,498\n",
              "Total non-trainable params: 11,166,912\n",
              "Optimized with 'torch.optim.adam.Adam', betas=(0.9, 0.99)\n",
              "Using true weight decay as discussed in https://www.fast.ai/2018/07/02/adam-weight-decay/ \n",
              "Loss function : FlattenedLoss\n",
              "======================================================================\n",
              "Callbacks functions applied "
            ]
          },
          "metadata": {
            "tags": []
          },
          "execution_count": 105
        }
      ]
    },
    {
      "cell_type": "code",
      "metadata": {
        "id": "QBZfWI6DmhPP",
        "colab_type": "code",
        "outputId": "63147a3f-5be5-4bf2-e2be-e2fe81f34af3",
        "colab": {
          "base_uri": "https://localhost:8080/",
          "height": 1000
        }
      },
      "source": [
        "# out of the box resnet18\n",
        "models.resnet18()"
      ],
      "execution_count": 0,
      "outputs": [
        {
          "output_type": "execute_result",
          "data": {
            "text/plain": [
              "ResNet(\n",
              "  (conv1): Conv2d(3, 64, kernel_size=(7, 7), stride=(2, 2), padding=(3, 3), bias=False)\n",
              "  (bn1): BatchNorm2d(64, eps=1e-05, momentum=0.1, affine=True, track_running_stats=True)\n",
              "  (relu): ReLU(inplace)\n",
              "  (maxpool): MaxPool2d(kernel_size=3, stride=2, padding=1, dilation=1, ceil_mode=False)\n",
              "  (layer1): Sequential(\n",
              "    (0): BasicBlock(\n",
              "      (conv1): Conv2d(64, 64, kernel_size=(3, 3), stride=(1, 1), padding=(1, 1), bias=False)\n",
              "      (bn1): BatchNorm2d(64, eps=1e-05, momentum=0.1, affine=True, track_running_stats=True)\n",
              "      (relu): ReLU(inplace)\n",
              "      (conv2): Conv2d(64, 64, kernel_size=(3, 3), stride=(1, 1), padding=(1, 1), bias=False)\n",
              "      (bn2): BatchNorm2d(64, eps=1e-05, momentum=0.1, affine=True, track_running_stats=True)\n",
              "    )\n",
              "    (1): BasicBlock(\n",
              "      (conv1): Conv2d(64, 64, kernel_size=(3, 3), stride=(1, 1), padding=(1, 1), bias=False)\n",
              "      (bn1): BatchNorm2d(64, eps=1e-05, momentum=0.1, affine=True, track_running_stats=True)\n",
              "      (relu): ReLU(inplace)\n",
              "      (conv2): Conv2d(64, 64, kernel_size=(3, 3), stride=(1, 1), padding=(1, 1), bias=False)\n",
              "      (bn2): BatchNorm2d(64, eps=1e-05, momentum=0.1, affine=True, track_running_stats=True)\n",
              "    )\n",
              "  )\n",
              "  (layer2): Sequential(\n",
              "    (0): BasicBlock(\n",
              "      (conv1): Conv2d(64, 128, kernel_size=(3, 3), stride=(2, 2), padding=(1, 1), bias=False)\n",
              "      (bn1): BatchNorm2d(128, eps=1e-05, momentum=0.1, affine=True, track_running_stats=True)\n",
              "      (relu): ReLU(inplace)\n",
              "      (conv2): Conv2d(128, 128, kernel_size=(3, 3), stride=(1, 1), padding=(1, 1), bias=False)\n",
              "      (bn2): BatchNorm2d(128, eps=1e-05, momentum=0.1, affine=True, track_running_stats=True)\n",
              "      (downsample): Sequential(\n",
              "        (0): Conv2d(64, 128, kernel_size=(1, 1), stride=(2, 2), bias=False)\n",
              "        (1): BatchNorm2d(128, eps=1e-05, momentum=0.1, affine=True, track_running_stats=True)\n",
              "      )\n",
              "    )\n",
              "    (1): BasicBlock(\n",
              "      (conv1): Conv2d(128, 128, kernel_size=(3, 3), stride=(1, 1), padding=(1, 1), bias=False)\n",
              "      (bn1): BatchNorm2d(128, eps=1e-05, momentum=0.1, affine=True, track_running_stats=True)\n",
              "      (relu): ReLU(inplace)\n",
              "      (conv2): Conv2d(128, 128, kernel_size=(3, 3), stride=(1, 1), padding=(1, 1), bias=False)\n",
              "      (bn2): BatchNorm2d(128, eps=1e-05, momentum=0.1, affine=True, track_running_stats=True)\n",
              "    )\n",
              "  )\n",
              "  (layer3): Sequential(\n",
              "    (0): BasicBlock(\n",
              "      (conv1): Conv2d(128, 256, kernel_size=(3, 3), stride=(2, 2), padding=(1, 1), bias=False)\n",
              "      (bn1): BatchNorm2d(256, eps=1e-05, momentum=0.1, affine=True, track_running_stats=True)\n",
              "      (relu): ReLU(inplace)\n",
              "      (conv2): Conv2d(256, 256, kernel_size=(3, 3), stride=(1, 1), padding=(1, 1), bias=False)\n",
              "      (bn2): BatchNorm2d(256, eps=1e-05, momentum=0.1, affine=True, track_running_stats=True)\n",
              "      (downsample): Sequential(\n",
              "        (0): Conv2d(128, 256, kernel_size=(1, 1), stride=(2, 2), bias=False)\n",
              "        (1): BatchNorm2d(256, eps=1e-05, momentum=0.1, affine=True, track_running_stats=True)\n",
              "      )\n",
              "    )\n",
              "    (1): BasicBlock(\n",
              "      (conv1): Conv2d(256, 256, kernel_size=(3, 3), stride=(1, 1), padding=(1, 1), bias=False)\n",
              "      (bn1): BatchNorm2d(256, eps=1e-05, momentum=0.1, affine=True, track_running_stats=True)\n",
              "      (relu): ReLU(inplace)\n",
              "      (conv2): Conv2d(256, 256, kernel_size=(3, 3), stride=(1, 1), padding=(1, 1), bias=False)\n",
              "      (bn2): BatchNorm2d(256, eps=1e-05, momentum=0.1, affine=True, track_running_stats=True)\n",
              "    )\n",
              "  )\n",
              "  (layer4): Sequential(\n",
              "    (0): BasicBlock(\n",
              "      (conv1): Conv2d(256, 512, kernel_size=(3, 3), stride=(2, 2), padding=(1, 1), bias=False)\n",
              "      (bn1): BatchNorm2d(512, eps=1e-05, momentum=0.1, affine=True, track_running_stats=True)\n",
              "      (relu): ReLU(inplace)\n",
              "      (conv2): Conv2d(512, 512, kernel_size=(3, 3), stride=(1, 1), padding=(1, 1), bias=False)\n",
              "      (bn2): BatchNorm2d(512, eps=1e-05, momentum=0.1, affine=True, track_running_stats=True)\n",
              "      (downsample): Sequential(\n",
              "        (0): Conv2d(256, 512, kernel_size=(1, 1), stride=(2, 2), bias=False)\n",
              "        (1): BatchNorm2d(512, eps=1e-05, momentum=0.1, affine=True, track_running_stats=True)\n",
              "      )\n",
              "    )\n",
              "    (1): BasicBlock(\n",
              "      (conv1): Conv2d(512, 512, kernel_size=(3, 3), stride=(1, 1), padding=(1, 1), bias=False)\n",
              "      (bn1): BatchNorm2d(512, eps=1e-05, momentum=0.1, affine=True, track_running_stats=True)\n",
              "      (relu): ReLU(inplace)\n",
              "      (conv2): Conv2d(512, 512, kernel_size=(3, 3), stride=(1, 1), padding=(1, 1), bias=False)\n",
              "      (bn2): BatchNorm2d(512, eps=1e-05, momentum=0.1, affine=True, track_running_stats=True)\n",
              "    )\n",
              "  )\n",
              "  (avgpool): AdaptiveAvgPool2d(output_size=(1, 1))\n",
              "  (fc): Linear(in_features=512, out_features=1000, bias=True)\n",
              ")"
            ]
          },
          "metadata": {
            "tags": []
          },
          "execution_count": 43
        }
      ]
    },
    {
      "cell_type": "markdown",
      "metadata": {
        "id": "vFO5kMkymhPU",
        "colab_type": "text"
      },
      "source": [
        "## fin"
      ]
    },
    {
      "cell_type": "code",
      "metadata": {
        "id": "EhTYQprhmhPV",
        "colab_type": "code",
        "colab": {}
      },
      "source": [
        ""
      ],
      "execution_count": 0,
      "outputs": []
    }
  ]
}
