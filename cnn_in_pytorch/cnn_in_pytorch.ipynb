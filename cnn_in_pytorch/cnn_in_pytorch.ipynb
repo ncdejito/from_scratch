{
  "nbformat": 4,
  "nbformat_minor": 0,
  "metadata": {
    "kernelspec": {
      "name": "python3",
      "display_name": "Python 3"
    },
    "colab": {
      "name": "cnn_in_pytorch.ipynb",
      "version": "0.3.2",
      "provenance": [],
      "collapsed_sections": [
        "PDJ1L8ZSmhMd",
        "d2qkmq3xnqLS",
        "vuDIsn6mjzmj"
      ]
    },
    "accelerator": "GPU"
  },
  "cells": [
    {
      "cell_type": "code",
      "metadata": {
        "id": "Ufk6MeqmmpkA",
        "colab_type": "code",
        "colab": {}
      },
      "source": [
        "# CNN in pytorch as raw as you can\n",
        "# Goals resnet18, accuracy=0.968597, using only nn.sequential, build blocks"
      ],
      "execution_count": 0,
      "outputs": []
    },
    {
      "cell_type": "code",
      "metadata": {
        "id": "xedY2PSHmhMU",
        "colab_type": "code",
        "colab": {}
      },
      "source": [
        "%reload_ext autoreload\n",
        "%autoreload 2\n",
        "%matplotlib inline"
      ],
      "execution_count": 0,
      "outputs": []
    },
    {
      "cell_type": "code",
      "metadata": {
        "id": "y7bg_s4amhMa",
        "colab_type": "code",
        "colab": {}
      },
      "source": [
        "from fastai.vision import *"
      ],
      "execution_count": 0,
      "outputs": []
    },
    {
      "cell_type": "markdown",
      "metadata": {
        "id": "PDJ1L8ZSmhMd",
        "colab_type": "text"
      },
      "source": [
        "## Data"
      ]
    },
    {
      "cell_type": "code",
      "metadata": {
        "id": "A1QVlI_MRKAI",
        "colab_type": "code",
        "colab": {
          "base_uri": "https://localhost:8080/",
          "height": 34
        },
        "outputId": "4f0ab47e-6b9f-4ff9-d411-2f0141892dcc"
      },
      "source": [
        "path = untar_data(URLs.MNIST_SAMPLE)\n",
        "path"
      ],
      "execution_count": 4,
      "outputs": [
        {
          "output_type": "execute_result",
          "data": {
            "text/plain": [
              "PosixPath('/root/.fastai/data/mnist_sample')"
            ]
          },
          "metadata": {
            "tags": []
          },
          "execution_count": 4
        }
      ]
    },
    {
      "cell_type": "code",
      "metadata": {
        "id": "H3ITZ6WLRMRl",
        "colab_type": "code",
        "colab": {}
      },
      "source": [
        "data = ImageDataBunch.from_folder(path) # batch size=64"
      ],
      "execution_count": 0,
      "outputs": []
    },
    {
      "cell_type": "code",
      "metadata": {
        "id": "gCzSvNOZRZ6C",
        "colab_type": "code",
        "colab": {
          "base_uri": "https://localhost:8080/",
          "height": 0
        },
        "outputId": "c20229a7-540a-4b76-c411-d270a8a08836"
      },
      "source": [
        "data # mnist sample has 3 dimensions"
      ],
      "execution_count": 6,
      "outputs": [
        {
          "output_type": "execute_result",
          "data": {
            "text/plain": [
              "ImageDataBunch;\n",
              "\n",
              "Train: LabelList (12396 items)\n",
              "x: ImageList\n",
              "Image (3, 28, 28),Image (3, 28, 28),Image (3, 28, 28),Image (3, 28, 28),Image (3, 28, 28)\n",
              "y: CategoryList\n",
              "3,3,3,3,3\n",
              "Path: /root/.fastai/data/mnist_sample;\n",
              "\n",
              "Valid: LabelList (2038 items)\n",
              "x: ImageList\n",
              "Image (3, 28, 28),Image (3, 28, 28),Image (3, 28, 28),Image (3, 28, 28),Image (3, 28, 28)\n",
              "y: CategoryList\n",
              "3,3,3,3,3\n",
              "Path: /root/.fastai/data/mnist_sample;\n",
              "\n",
              "Test: None"
            ]
          },
          "metadata": {
            "tags": []
          },
          "execution_count": 6
        }
      ]
    },
    {
      "cell_type": "code",
      "metadata": {
        "id": "Ng2aqGMFShaX",
        "colab_type": "code",
        "colab": {
          "base_uri": "https://localhost:8080/",
          "height": 0
        },
        "outputId": "d0767dc5-dc4d-4215-ece3-7b4a0f71b0a9"
      },
      "source": [
        "# 3 dimensions are equal\n",
        "(z[0] == z[2]).sum() # 28x28"
      ],
      "execution_count": 8,
      "outputs": [
        {
          "output_type": "execute_result",
          "data": {
            "text/plain": [
              "tensor(784)"
            ]
          },
          "metadata": {
            "tags": []
          },
          "execution_count": 8
        }
      ]
    },
    {
      "cell_type": "code",
      "metadata": {
        "id": "lILIiIXVqQ34",
        "colab_type": "code",
        "colab": {
          "base_uri": "https://localhost:8080/",
          "height": 306
        },
        "outputId": "44880714-6055-434d-af07-a3e4165cc121"
      },
      "source": [
        "data"
      ],
      "execution_count": 9,
      "outputs": [
        {
          "output_type": "execute_result",
          "data": {
            "text/plain": [
              "ImageDataBunch;\n",
              "\n",
              "Train: LabelList (12396 items)\n",
              "x: ImageList\n",
              "Image (3, 28, 28),Image (3, 28, 28),Image (3, 28, 28),Image (3, 28, 28),Image (3, 28, 28)\n",
              "y: CategoryList\n",
              "3,3,3,3,3\n",
              "Path: /root/.fastai/data/mnist_sample;\n",
              "\n",
              "Valid: LabelList (2038 items)\n",
              "x: ImageList\n",
              "Image (3, 28, 28),Image (3, 28, 28),Image (3, 28, 28),Image (3, 28, 28),Image (3, 28, 28)\n",
              "y: CategoryList\n",
              "3,3,3,3,3\n",
              "Path: /root/.fastai/data/mnist_sample;\n",
              "\n",
              "Test: None"
            ]
          },
          "metadata": {
            "tags": []
          },
          "execution_count": 9
        }
      ]
    },
    {
      "cell_type": "code",
      "metadata": {
        "id": "Hu9fGdzMHRCe",
        "colab_type": "code",
        "outputId": "41338479-fdcf-4317-decb-4872788e33d3",
        "colab": {
          "base_uri": "https://localhost:8080/",
          "height": 68
        }
      },
      "source": [
        "z = data.x[0:64]\n",
        "z"
      ],
      "execution_count": 0,
      "outputs": [
        {
          "output_type": "execute_result",
          "data": {
            "text/plain": [
              "ImageList (64 items)\n",
              "Image (3, 28, 28),Image (3, 28, 28),Image (3, 28, 28),Image (3, 28, 28),Image (3, 28, 28)\n",
              "Path: /root/.fastai/data/mnist_sample"
            ]
          },
          "metadata": {
            "tags": []
          },
          "execution_count": 24
        }
      ]
    },
    {
      "cell_type": "markdown",
      "metadata": {
        "id": "d2qkmq3xnqLS",
        "colab_type": "text"
      },
      "source": [
        "## Recreate ResNet18"
      ]
    },
    {
      "cell_type": "code",
      "metadata": {
        "id": "8anr59E_mhOr",
        "colab_type": "code",
        "colab": {}
      },
      "source": [
        "class ResBlock(nn.Module):\n",
        "    def __init__(self, nf):\n",
        "        super().__init__()\n",
        "        self.conv1 = conv_layer(nf,nf)\n",
        "        self.conv2 = conv_layer(nf,nf)\n",
        "        \n",
        "    def forward(self, x): return x + self.conv2(self.conv1(x))"
      ],
      "execution_count": 0,
      "outputs": []
    },
    {
      "cell_type": "code",
      "metadata": {
        "id": "Y9zpeYjWSA1G",
        "colab_type": "code",
        "colab": {}
      },
      "source": [
        "# Sense check sizes of input output in sequential models\n",
        "input = torch.randn(64, 3, 28, 28)\n",
        "# input = torch.randn(64, 512, 1, 1)\n",
        "output = model(input)"
      ],
      "execution_count": 0,
      "outputs": []
    },
    {
      "cell_type": "code",
      "metadata": {
        "id": "7FM03tlgSIwA",
        "colab_type": "code",
        "outputId": "15ee97eb-53b9-44a4-f0b5-cc7c194bf05d",
        "colab": {
          "base_uri": "https://localhost:8080/",
          "height": 34
        }
      },
      "source": [
        "output.size()"
      ],
      "execution_count": 0,
      "outputs": [
        {
          "output_type": "execute_result",
          "data": {
            "text/plain": [
              "torch.Size([64, 512, 1, 1])"
            ]
          },
          "metadata": {
            "tags": []
          },
          "execution_count": 96
        }
      ]
    },
    {
      "cell_type": "code",
      "metadata": {
        "id": "vAvo9NIZkpng",
        "colab_type": "code",
        "colab": {
          "base_uri": "https://localhost:8080/",
          "height": 34
        },
        "outputId": "0d97ffda-d80d-477a-94bb-083cbd498c51"
      },
      "source": [
        "input.view(64,-1).size()\n",
        "# torch.flatten(input, 1).size()"
      ],
      "execution_count": 100,
      "outputs": [
        {
          "output_type": "execute_result",
          "data": {
            "text/plain": [
              "torch.Size([64, 512])"
            ]
          },
          "metadata": {
            "tags": []
          },
          "execution_count": 100
        }
      ]
    },
    {
      "cell_type": "code",
      "metadata": {
        "id": "yl8RNqrYggi8",
        "colab_type": "code",
        "colab": {}
      },
      "source": [
        "# source: https://stackoverflow.com/questions/53953460/how-to-flatten-input-in-nn-sequential-in-pytorch\n",
        "class Flatten(torch.nn.Module):\n",
        "    def forward(self, x):\n",
        "        return torch.flatten(x, 1)\n",
        "#         z = torch.flatten(x, 1)\n",
        "#         return torch.cat((z,z), dim = 1) # 1024 in end layer even if only 512?"
      ],
      "execution_count": 0,
      "outputs": []
    },
    {
      "cell_type": "code",
      "metadata": {
        "id": "SJlM9ybUgLnn",
        "colab_type": "code",
        "colab": {}
      },
      "source": [
        "class BasicBlock(nn.Module):\n",
        "    expansion = 1\n",
        "\n",
        "    def __init__(self, inplanes, planes, stride=1, downsample=None):\n",
        "        super(BasicBlock, self).__init__()\n",
        "        self.conv1 = nn.Conv2d(inplanes, planes, kernel_size=3, stride=stride,padding=1, bias=False)\n",
        "        self.bn1 = nn.BatchNorm2d(planes)\n",
        "        self.relu = nn.ReLU(inplace=True)\n",
        "        self.conv2 = nn.Conv2d(planes, planes, kernel_size=3, stride=stride,padding=1, bias=False)\n",
        "        self.bn2 = nn.BatchNorm2d(planes)\n",
        "        self.downsample = downsample\n",
        "        self.stride = stride\n",
        "\n",
        "    def forward(self, x):\n",
        "        identity = x\n",
        "\n",
        "        out = self.conv1(x)\n",
        "        out = self.bn1(out)\n",
        "        out = self.relu(out)\n",
        "\n",
        "        out = self.conv2(out)\n",
        "        out = self.bn2(out)\n",
        "\n",
        "        if self.downsample is not None:\n",
        "            identity = self.downsample(x)\n",
        "\n",
        "        out += identity\n",
        "        out = self.relu(out)\n",
        "\n",
        "        return out\n",
        "\n"
      ],
      "execution_count": 0,
      "outputs": []
    },
    {
      "cell_type": "code",
      "metadata": {
        "id": "LAAWjzTtg8D5",
        "colab_type": "code",
        "colab": {}
      },
      "source": [
        "# Try using basic blocks for identity connections + compressed code\n",
        "# Resnet 18: https://arxiv.org/abs/1502.01852 Model A, Table 3 Page7\n",
        "model = nn.Sequential(\n",
        "    nn.Conv2d(3, 64, kernel_size=(7, 7), stride=(2, 2), padding=(3, 3), bias=False)\n",
        "    , nn.BatchNorm2d(64, eps=1e-05, momentum=0.1, affine=True, track_running_stats=True)\n",
        "    , nn.ReLU(inplace=True)\n",
        "    , nn.MaxPool2d(kernel_size=3, stride=2, padding=1, dilation=1, ceil_mode=False)\n",
        "    \n",
        "    # Layer 1\n",
        "    , BasicBlock(64, 64, stride=1, downsample=None) # Block 1\n",
        "    , BasicBlock(64, 64, stride=1, downsample=None) # Block 2\n",
        "    # Layer 2\n",
        "    # Block 1\n",
        "    , nn.Conv2d(64, 128, kernel_size=(3, 3), stride=(2, 2), padding=(1, 1), bias=False)\n",
        "    , nn.BatchNorm2d(128, eps=1e-05, momentum=0.1, affine=True, track_running_stats=True)\n",
        "    , nn.ReLU(inplace=True)\n",
        "    , nn.Conv2d(128, 128, kernel_size=(3, 3), stride=(1, 1), padding=(1, 1), bias=False)\n",
        "    , nn.BatchNorm2d(128, eps=1e-05, momentum=0.1, affine=True, track_running_stats=True)\n",
        "    # Downsample # default is downsample=None anyway\n",
        "    , nn.Conv2d(in_planes, out_planes, kernel_size=1, stride=stride, bias=False)\n",
        "#     , nn.Conv2d(64, 128, kernel_size=(1, 1), stride=(2, 2), bias=False)\n",
        "#     , nn.BatchNorm2d(128, eps=1e-05, momentum=0.1, affine=True, track_running_stats=True)\n",
        "    # Block 2\n",
        "    , nn.Conv2d(128, 128, kernel_size=(3, 3), stride=(1, 1), padding=(1, 1), bias=False)\n",
        "    , nn.BatchNorm2d(128, eps=1e-05, momentum=0.1, affine=True, track_running_stats=True)\n",
        "    , nn.ReLU(inplace=True)\n",
        "    , nn.Conv2d(128, 128, kernel_size=(3, 3), stride=(1, 1), padding=(1, 1), bias=False)\n",
        "    , nn.BatchNorm2d(128, eps=1e-05, momentum=0.1, affine=True, track_running_stats=True)\n",
        "    # Layer 3\n",
        "    # Block 1\n",
        "    , nn.Conv2d(128, 256, kernel_size=(3, 3), stride=(2, 2), padding=(1, 1), bias=False)\n",
        "    , nn.BatchNorm2d(256, eps=1e-05, momentum=0.1, affine=True, track_running_stats=True)\n",
        "    , nn.ReLU(inplace=True)\n",
        "    , nn.Conv2d(256, 256, kernel_size=(3, 3), stride=(1, 1), padding=(1, 1), bias=False)\n",
        "    , nn.BatchNorm2d(256, eps=1e-05, momentum=0.1, affine=True, track_running_stats=True)\n",
        "#     # Downsample\n",
        "#     , nn.Conv2d(128, 256, kernel_size=(1, 1), stride=(2, 2), bias=False)\n",
        "#     , nn.BatchNorm2d(256, eps=1e-05, momentum=0.1, affine=True, track_running_stats=True)\n",
        "    , nn.Conv2d(256, 256, kernel_size=(3, 3), stride=(1, 1), padding=(1, 1), bias=False)\n",
        "    , nn.BatchNorm2d(256, eps=1e-05, momentum=0.1, affine=True, track_running_stats=True)\n",
        "    # Block 2\n",
        "    , nn.Conv2d(256, 256, kernel_size=(3, 3), stride=(1, 1), padding=(1, 1), bias=False)\n",
        "    , nn.BatchNorm2d(256, eps=1e-05, momentum=0.1, affine=True, track_running_stats=True)\n",
        "    , nn.ReLU(inplace=True)\n",
        "    , nn.Conv2d(256, 256, kernel_size=(3, 3), stride=(1, 1), padding=(1, 1), bias=False)\n",
        "    , nn.BatchNorm2d(256, eps=1e-05, momentum=0.1, affine=True, track_running_stats=True)\n",
        "    # Layer 4\n",
        "    # Block 1\n",
        "    , nn.Conv2d(256, 512, kernel_size=(3, 3), stride=(2, 2), padding=(1, 1), bias=False)\n",
        "    , nn.BatchNorm2d(512, eps=1e-05, momentum=0.1, affine=True, track_running_stats=True)\n",
        "    , nn.ReLU(inplace=True)\n",
        "    , nn.Conv2d(512, 512, kernel_size=(3, 3), stride=(1, 1), padding=(1, 1), bias=False)\n",
        "    , nn.BatchNorm2d(512, eps=1e-05, momentum=0.1, affine=True, track_running_stats=True)\n",
        "#     # Downsample\n",
        "#     , nn.Conv2d(256, 512, kernel_size=(1, 1), stride=(2, 2), bias=False)\n",
        "#     , nn.BatchNorm2d(512, eps=1e-05, momentum=0.1, affine=True, track_running_stats=True)\n",
        "    , nn.Conv2d(512, 512, kernel_size=(3, 3), stride=(1, 1), padding=(1, 1), bias=False)\n",
        "    , nn.BatchNorm2d(512, eps=1e-05, momentum=0.1, affine=True, track_running_stats=True)\n",
        "    # Block 2\n",
        "    , nn.Conv2d(512, 512, kernel_size=(3, 3), stride=(1, 1), padding=(1, 1), bias=False)\n",
        "    , nn.BatchNorm2d(512, eps=1e-05, momentum=0.1, affine=True, track_running_stats=True)\n",
        "    , nn.ReLU(inplace=True)\n",
        "    , nn.Conv2d(512, 512, kernel_size=(3, 3), stride=(1, 1), padding=(1, 1), bias=False)\n",
        "    , nn.BatchNorm2d(512, eps=1e-05, momentum=0.1, affine=True, track_running_stats=True)\n",
        "    \n",
        "    , nn.AdaptiveAvgPool2d(output_size=(1, 1))\n",
        "#     , nn.Linear(in_features=512, out_features=1000, bias=True) # original output layer\n",
        "    \n",
        "    # Additional layers to adapt to any dataset\n",
        "    , nn.AdaptiveMaxPool2d(output_size=(1, 1))\n",
        "    # Should be 1024 {\n",
        "    , Flatten()\n",
        "    , nn.BatchNorm1d(1024, eps=1e-05, momentum=0.1, affine=True, track_running_stats=True)\n",
        "    , nn.Dropout()\n",
        "    # }\n",
        "    , nn.Linear(in_features=1024, out_features=512, bias=True)\n",
        "    , nn.ReLU(inplace=True)\n",
        "    , nn.BatchNorm1d(512, eps=1e-05, momentum=0.1, affine=True, track_running_stats=True)\n",
        "    , nn.Dropout()\n",
        "    , nn.Linear(in_features=512, out_features=2, bias=True) # <-- edit out_features to number of classes\n",
        "    \n",
        ")"
      ],
      "execution_count": 0,
      "outputs": []
    },
    {
      "cell_type": "code",
      "metadata": {
        "id": "QXCC8Un_mhO2",
        "colab_type": "code",
        "colab": {}
      },
      "source": [
        "# Full sequential, but without skip connections\n",
        "# Resnet 18: https://arxiv.org/abs/1502.01852 Model A, Table 3 Page7\n",
        "model = nn.Sequential(\n",
        "    nn.Conv2d(3, 64, kernel_size=(7, 7), stride=(2, 2), padding=(3, 3), bias=False)\n",
        "    , nn.BatchNorm2d(64, eps=1e-05, momentum=0.1, affine=True, track_running_stats=True)\n",
        "    , nn.ReLU(inplace=True)\n",
        "    , nn.MaxPool2d(kernel_size=3, stride=2, padding=1, dilation=1, ceil_mode=False)\n",
        "    \n",
        "    # Layer 1\n",
        "    # Block 1\n",
        "    , nn.Conv2d(64, 64, kernel_size=(3, 3), stride=(1, 1), padding=(1, 1), bias=False)\n",
        "    , nn.BatchNorm2d(64, eps=1e-05, momentum=0.1, affine=True, track_running_stats=True)\n",
        "    , nn.ReLU(inplace=True)\n",
        "    , nn.Conv2d(64, 64, kernel_size=(3, 3), stride=(1, 1), padding=(1, 1), bias=False)\n",
        "    , nn.BatchNorm2d(64, eps=1e-05, momentum=0.1, affine=True, track_running_stats=True)\n",
        "    # Block 2\n",
        "    , nn.Conv2d(64, 64, kernel_size=(3, 3), stride=(1, 1), padding=(1, 1), bias=False)\n",
        "    , nn.BatchNorm2d(64, eps=1e-05, momentum=0.1, affine=True, track_running_stats=True)\n",
        "    , nn.ReLU(inplace=True)\n",
        "    , nn.Conv2d(64, 64, kernel_size=(3, 3), stride=(1, 1), padding=(1, 1), bias=False)\n",
        "    , nn.BatchNorm2d(64, eps=1e-05, momentum=0.1, affine=True, track_running_stats=True)\n",
        "    # Layer 2\n",
        "    # Block 1\n",
        "    , nn.Conv2d(64, 128, kernel_size=(3, 3), stride=(2, 2), padding=(1, 1), bias=False)\n",
        "    , nn.BatchNorm2d(128, eps=1e-05, momentum=0.1, affine=True, track_running_stats=True)\n",
        "    , nn.ReLU(inplace=True)\n",
        "    , nn.Conv2d(128, 128, kernel_size=(3, 3), stride=(1, 1), padding=(1, 1), bias=False)\n",
        "    , nn.BatchNorm2d(128, eps=1e-05, momentum=0.1, affine=True, track_running_stats=True)\n",
        "    # Downsample # default is downsample=None anyway\n",
        "    , nn.Conv2d(in_planes, out_planes, kernel_size=1, stride=stride, bias=False)\n",
        "#     , nn.Conv2d(64, 128, kernel_size=(1, 1), stride=(2, 2), bias=False)\n",
        "#     , nn.BatchNorm2d(128, eps=1e-05, momentum=0.1, affine=True, track_running_stats=True)\n",
        "    # Block 2\n",
        "    , nn.Conv2d(128, 128, kernel_size=(3, 3), stride=(1, 1), padding=(1, 1), bias=False)\n",
        "    , nn.BatchNorm2d(128, eps=1e-05, momentum=0.1, affine=True, track_running_stats=True)\n",
        "    , nn.ReLU(inplace=True)\n",
        "    , nn.Conv2d(128, 128, kernel_size=(3, 3), stride=(1, 1), padding=(1, 1), bias=False)\n",
        "    , nn.BatchNorm2d(128, eps=1e-05, momentum=0.1, affine=True, track_running_stats=True)\n",
        "    # Layer 3\n",
        "    # Block 1\n",
        "    , nn.Conv2d(128, 256, kernel_size=(3, 3), stride=(2, 2), padding=(1, 1), bias=False)\n",
        "    , nn.BatchNorm2d(256, eps=1e-05, momentum=0.1, affine=True, track_running_stats=True)\n",
        "    , nn.ReLU(inplace=True)\n",
        "    , nn.Conv2d(256, 256, kernel_size=(3, 3), stride=(1, 1), padding=(1, 1), bias=False)\n",
        "    , nn.BatchNorm2d(256, eps=1e-05, momentum=0.1, affine=True, track_running_stats=True)\n",
        "#     # Downsample\n",
        "#     , nn.Conv2d(128, 256, kernel_size=(1, 1), stride=(2, 2), bias=False)\n",
        "#     , nn.BatchNorm2d(256, eps=1e-05, momentum=0.1, affine=True, track_running_stats=True)\n",
        "    , nn.Conv2d(256, 256, kernel_size=(3, 3), stride=(1, 1), padding=(1, 1), bias=False)\n",
        "    , nn.BatchNorm2d(256, eps=1e-05, momentum=0.1, affine=True, track_running_stats=True)\n",
        "    # Block 2\n",
        "    , nn.Conv2d(256, 256, kernel_size=(3, 3), stride=(1, 1), padding=(1, 1), bias=False)\n",
        "    , nn.BatchNorm2d(256, eps=1e-05, momentum=0.1, affine=True, track_running_stats=True)\n",
        "    , nn.ReLU(inplace=True)\n",
        "    , nn.Conv2d(256, 256, kernel_size=(3, 3), stride=(1, 1), padding=(1, 1), bias=False)\n",
        "    , nn.BatchNorm2d(256, eps=1e-05, momentum=0.1, affine=True, track_running_stats=True)\n",
        "    # Layer 4\n",
        "    # Block 1\n",
        "    , nn.Conv2d(256, 512, kernel_size=(3, 3), stride=(2, 2), padding=(1, 1), bias=False)\n",
        "    , nn.BatchNorm2d(512, eps=1e-05, momentum=0.1, affine=True, track_running_stats=True)\n",
        "    , nn.ReLU(inplace=True)\n",
        "    , nn.Conv2d(512, 512, kernel_size=(3, 3), stride=(1, 1), padding=(1, 1), bias=False)\n",
        "    , nn.BatchNorm2d(512, eps=1e-05, momentum=0.1, affine=True, track_running_stats=True)\n",
        "#     # Downsample\n",
        "#     , nn.Conv2d(256, 512, kernel_size=(1, 1), stride=(2, 2), bias=False)\n",
        "#     , nn.BatchNorm2d(512, eps=1e-05, momentum=0.1, affine=True, track_running_stats=True)\n",
        "    , nn.Conv2d(512, 512, kernel_size=(3, 3), stride=(1, 1), padding=(1, 1), bias=False)\n",
        "    , nn.BatchNorm2d(512, eps=1e-05, momentum=0.1, affine=True, track_running_stats=True)\n",
        "    # Block 2\n",
        "    , nn.Conv2d(512, 512, kernel_size=(3, 3), stride=(1, 1), padding=(1, 1), bias=False)\n",
        "    , nn.BatchNorm2d(512, eps=1e-05, momentum=0.1, affine=True, track_running_stats=True)\n",
        "    , nn.ReLU(inplace=True)\n",
        "    , nn.Conv2d(512, 512, kernel_size=(3, 3), stride=(1, 1), padding=(1, 1), bias=False)\n",
        "    , nn.BatchNorm2d(512, eps=1e-05, momentum=0.1, affine=True, track_running_stats=True)\n",
        "    \n",
        "    , nn.AdaptiveAvgPool2d(output_size=(1, 1))\n",
        "#     , nn.Linear(in_features=512, out_features=1000, bias=True) # original output layer\n",
        "    \n",
        "    # Additional layers to adapt to any dataset\n",
        "    , nn.AdaptiveMaxPool2d(output_size=(1, 1))\n",
        "    # Should be 1024 {\n",
        "    , Flatten()\n",
        "    , nn.BatchNorm1d(1024, eps=1e-05, momentum=0.1, affine=True, track_running_stats=True)\n",
        "    , nn.Dropout()\n",
        "    # }\n",
        "    , nn.Linear(in_features=1024, out_features=512, bias=True)\n",
        "    , nn.ReLU(inplace=True)\n",
        "    , nn.BatchNorm1d(512, eps=1e-05, momentum=0.1, affine=True, track_running_stats=True)\n",
        "    , nn.Dropout()\n",
        "    , nn.Linear(in_features=512, out_features=2, bias=True) # <-- edit out_features to number of classes\n",
        "    \n",
        ")"
      ],
      "execution_count": 0,
      "outputs": []
    },
    {
      "cell_type": "code",
      "metadata": {
        "id": "p5HIMo_dmhO5",
        "colab_type": "code",
        "colab": {}
      },
      "source": [
        "learn = Learner(data, model, loss_func = nn.CrossEntropyLoss(), metrics=accuracy)"
      ],
      "execution_count": 0,
      "outputs": []
    },
    {
      "cell_type": "code",
      "metadata": {
        "id": "ZClr0bu7DRb_",
        "colab_type": "code",
        "colab": {
          "base_uri": "https://localhost:8080/",
          "height": 1000
        },
        "outputId": "2c3d4396-1d56-4964-8937-757a26776c87"
      },
      "source": [
        "# your model\n",
        "learn.summary()"
      ],
      "execution_count": 118,
      "outputs": [
        {
          "output_type": "execute_result",
          "data": {
            "text/plain": [
              "Sequential\n",
              "======================================================================\n",
              "Layer (type)         Output Shape         Param #    Trainable \n",
              "======================================================================\n",
              "Conv2d               [64, 14, 14]         9,408      True      \n",
              "______________________________________________________________________\n",
              "BatchNorm2d          [64, 14, 14]         128        True      \n",
              "______________________________________________________________________\n",
              "ReLU                 [64, 14, 14]         0          False     \n",
              "______________________________________________________________________\n",
              "MaxPool2d            [64, 7, 7]           0          False     \n",
              "______________________________________________________________________\n",
              "Conv2d               [64, 7, 7]           36,864     True      \n",
              "______________________________________________________________________\n",
              "BatchNorm2d          [64, 7, 7]           128        True      \n",
              "______________________________________________________________________\n",
              "ReLU                 [64, 7, 7]           0          False     \n",
              "______________________________________________________________________\n",
              "Conv2d               [64, 7, 7]           36,864     True      \n",
              "______________________________________________________________________\n",
              "BatchNorm2d          [64, 7, 7]           128        True      \n",
              "______________________________________________________________________\n",
              "Conv2d               [64, 7, 7]           36,864     True      \n",
              "______________________________________________________________________\n",
              "BatchNorm2d          [64, 7, 7]           128        True      \n",
              "______________________________________________________________________\n",
              "ReLU                 [64, 7, 7]           0          False     \n",
              "______________________________________________________________________\n",
              "Conv2d               [64, 7, 7]           36,864     True      \n",
              "______________________________________________________________________\n",
              "BatchNorm2d          [64, 7, 7]           128        True      \n",
              "______________________________________________________________________\n",
              "Conv2d               [128, 4, 4]          73,728     True      \n",
              "______________________________________________________________________\n",
              "BatchNorm2d          [128, 4, 4]          256        True      \n",
              "______________________________________________________________________\n",
              "ReLU                 [128, 4, 4]          0          False     \n",
              "______________________________________________________________________\n",
              "Conv2d               [128, 4, 4]          147,456    True      \n",
              "______________________________________________________________________\n",
              "BatchNorm2d          [128, 4, 4]          256        True      \n",
              "______________________________________________________________________\n",
              "Conv2d               [128, 4, 4]          147,456    True      \n",
              "______________________________________________________________________\n",
              "BatchNorm2d          [128, 4, 4]          256        True      \n",
              "______________________________________________________________________\n",
              "Conv2d               [128, 4, 4]          147,456    True      \n",
              "______________________________________________________________________\n",
              "BatchNorm2d          [128, 4, 4]          256        True      \n",
              "______________________________________________________________________\n",
              "ReLU                 [128, 4, 4]          0          False     \n",
              "______________________________________________________________________\n",
              "Conv2d               [128, 4, 4]          147,456    True      \n",
              "______________________________________________________________________\n",
              "BatchNorm2d          [128, 4, 4]          256        True      \n",
              "______________________________________________________________________\n",
              "Conv2d               [256, 2, 2]          294,912    True      \n",
              "______________________________________________________________________\n",
              "BatchNorm2d          [256, 2, 2]          512        True      \n",
              "______________________________________________________________________\n",
              "ReLU                 [256, 2, 2]          0          False     \n",
              "______________________________________________________________________\n",
              "Conv2d               [256, 2, 2]          589,824    True      \n",
              "______________________________________________________________________\n",
              "BatchNorm2d          [256, 2, 2]          512        True      \n",
              "______________________________________________________________________\n",
              "Conv2d               [256, 2, 2]          589,824    True      \n",
              "______________________________________________________________________\n",
              "BatchNorm2d          [256, 2, 2]          512        True      \n",
              "______________________________________________________________________\n",
              "Conv2d               [256, 2, 2]          589,824    True      \n",
              "______________________________________________________________________\n",
              "BatchNorm2d          [256, 2, 2]          512        True      \n",
              "______________________________________________________________________\n",
              "ReLU                 [256, 2, 2]          0          False     \n",
              "______________________________________________________________________\n",
              "Conv2d               [256, 2, 2]          589,824    True      \n",
              "______________________________________________________________________\n",
              "BatchNorm2d          [256, 2, 2]          512        True      \n",
              "______________________________________________________________________\n",
              "Conv2d               [512, 1, 1]          1,179,648  True      \n",
              "______________________________________________________________________\n",
              "BatchNorm2d          [512, 1, 1]          1,024      True      \n",
              "______________________________________________________________________\n",
              "ReLU                 [512, 1, 1]          0          False     \n",
              "______________________________________________________________________\n",
              "Conv2d               [512, 1, 1]          2,359,296  True      \n",
              "______________________________________________________________________\n",
              "BatchNorm2d          [512, 1, 1]          1,024      True      \n",
              "______________________________________________________________________\n",
              "Conv2d               [512, 1, 1]          2,359,296  True      \n",
              "______________________________________________________________________\n",
              "BatchNorm2d          [512, 1, 1]          1,024      True      \n",
              "______________________________________________________________________\n",
              "Conv2d               [512, 1, 1]          2,359,296  True      \n",
              "______________________________________________________________________\n",
              "BatchNorm2d          [512, 1, 1]          1,024      True      \n",
              "______________________________________________________________________\n",
              "ReLU                 [512, 1, 1]          0          False     \n",
              "______________________________________________________________________\n",
              "Conv2d               [512, 1, 1]          2,359,296  True      \n",
              "______________________________________________________________________\n",
              "BatchNorm2d          [512, 1, 1]          1,024      True      \n",
              "______________________________________________________________________\n",
              "AdaptiveAvgPool2d    [512, 1, 1]          0          False     \n",
              "______________________________________________________________________\n",
              "AdaptiveMaxPool2d    [512, 1, 1]          0          False     \n",
              "______________________________________________________________________\n",
              "Flatten              [1024]               0          False     \n",
              "______________________________________________________________________\n",
              "BatchNorm1d          [1024]               2,048      True      \n",
              "______________________________________________________________________\n",
              "Dropout              [1024]               0          False     \n",
              "______________________________________________________________________\n",
              "Linear               [512]                524,800    True      \n",
              "______________________________________________________________________\n",
              "ReLU                 [512]                0          False     \n",
              "______________________________________________________________________\n",
              "BatchNorm1d          [512]                1,024      True      \n",
              "______________________________________________________________________\n",
              "Dropout              [512]                0          False     \n",
              "______________________________________________________________________\n",
              "Linear               [2]                  1,026      True      \n",
              "______________________________________________________________________\n",
              "\n",
              "Total params: 14,629,954\n",
              "Total trainable params: 14,629,954\n",
              "Total non-trainable params: 0\n",
              "Optimized with 'torch.optim.adam.Adam', betas=(0.9, 0.99)\n",
              "Using true weight decay as discussed in https://www.fast.ai/2018/07/02/adam-weight-decay/ \n",
              "Loss function : CrossEntropyLoss\n",
              "======================================================================\n",
              "Callbacks functions applied "
            ]
          },
          "metadata": {
            "tags": []
          },
          "execution_count": 118
        }
      ]
    },
    {
      "cell_type": "code",
      "metadata": {
        "id": "_gvh0SiPmhPA",
        "colab_type": "code",
        "colab": {}
      },
      "source": [
        "learn.lr_find(end_lr=100)\n",
        "learn.recorder.plot()"
      ],
      "execution_count": 0,
      "outputs": []
    },
    {
      "cell_type": "code",
      "metadata": {
        "id": "TMaWcoWVmhPH",
        "colab_type": "code",
        "colab": {}
      },
      "source": [
        "learn.fit_one_cycle(3, max_lr=0.05)"
      ],
      "execution_count": 0,
      "outputs": []
    },
    {
      "cell_type": "markdown",
      "metadata": {
        "id": "vuDIsn6mjzmj",
        "colab_type": "text"
      },
      "source": [
        "## Goal model architecture"
      ]
    },
    {
      "cell_type": "code",
      "metadata": {
        "id": "OyZOfZhFDlwF",
        "colab_type": "code",
        "colab": {
          "base_uri": "https://localhost:8080/",
          "height": 1000
        },
        "outputId": "fec4a120-7e4c-42be-daaf-3c64382f6421"
      },
      "source": [
        "# correct model for MNIST sample\n",
        "learn = cnn_learner(data, models.resnet18, metrics=accuracy)\n",
        "learn.summary()"
      ],
      "execution_count": 105,
      "outputs": [
        {
          "output_type": "execute_result",
          "data": {
            "text/plain": [
              "Sequential\n",
              "======================================================================\n",
              "Layer (type)         Output Shape         Param #    Trainable \n",
              "======================================================================\n",
              "Conv2d               [64, 14, 14]         9,408      False     \n",
              "______________________________________________________________________\n",
              "BatchNorm2d          [64, 14, 14]         128        True      \n",
              "______________________________________________________________________\n",
              "ReLU                 [64, 14, 14]         0          False     \n",
              "______________________________________________________________________\n",
              "MaxPool2d            [64, 7, 7]           0          False     \n",
              "______________________________________________________________________\n",
              "Conv2d               [64, 7, 7]           36,864     False     \n",
              "______________________________________________________________________\n",
              "BatchNorm2d          [64, 7, 7]           128        True      \n",
              "______________________________________________________________________\n",
              "ReLU                 [64, 7, 7]           0          False     \n",
              "______________________________________________________________________\n",
              "Conv2d               [64, 7, 7]           36,864     False     \n",
              "______________________________________________________________________\n",
              "BatchNorm2d          [64, 7, 7]           128        True      \n",
              "______________________________________________________________________\n",
              "Conv2d               [64, 7, 7]           36,864     False     \n",
              "______________________________________________________________________\n",
              "BatchNorm2d          [64, 7, 7]           128        True      \n",
              "______________________________________________________________________\n",
              "ReLU                 [64, 7, 7]           0          False     \n",
              "______________________________________________________________________\n",
              "Conv2d               [64, 7, 7]           36,864     False     \n",
              "______________________________________________________________________\n",
              "BatchNorm2d          [64, 7, 7]           128        True      \n",
              "______________________________________________________________________\n",
              "Conv2d               [128, 4, 4]          73,728     False     \n",
              "______________________________________________________________________\n",
              "BatchNorm2d          [128, 4, 4]          256        True      \n",
              "______________________________________________________________________\n",
              "ReLU                 [128, 4, 4]          0          False     \n",
              "______________________________________________________________________\n",
              "Conv2d               [128, 4, 4]          147,456    False     \n",
              "______________________________________________________________________\n",
              "BatchNorm2d          [128, 4, 4]          256        True      \n",
              "______________________________________________________________________\n",
              "Conv2d               [128, 4, 4]          8,192      False     \n",
              "______________________________________________________________________\n",
              "BatchNorm2d          [128, 4, 4]          256        True      \n",
              "______________________________________________________________________\n",
              "Conv2d               [128, 4, 4]          147,456    False     \n",
              "______________________________________________________________________\n",
              "BatchNorm2d          [128, 4, 4]          256        True      \n",
              "______________________________________________________________________\n",
              "ReLU                 [128, 4, 4]          0          False     \n",
              "______________________________________________________________________\n",
              "Conv2d               [128, 4, 4]          147,456    False     \n",
              "______________________________________________________________________\n",
              "BatchNorm2d          [128, 4, 4]          256        True      \n",
              "______________________________________________________________________\n",
              "Conv2d               [256, 2, 2]          294,912    False     \n",
              "______________________________________________________________________\n",
              "BatchNorm2d          [256, 2, 2]          512        True      \n",
              "______________________________________________________________________\n",
              "ReLU                 [256, 2, 2]          0          False     \n",
              "______________________________________________________________________\n",
              "Conv2d               [256, 2, 2]          589,824    False     \n",
              "______________________________________________________________________\n",
              "BatchNorm2d          [256, 2, 2]          512        True      \n",
              "______________________________________________________________________\n",
              "Conv2d               [256, 2, 2]          32,768     False     \n",
              "______________________________________________________________________\n",
              "BatchNorm2d          [256, 2, 2]          512        True      \n",
              "______________________________________________________________________\n",
              "Conv2d               [256, 2, 2]          589,824    False     \n",
              "______________________________________________________________________\n",
              "BatchNorm2d          [256, 2, 2]          512        True      \n",
              "______________________________________________________________________\n",
              "ReLU                 [256, 2, 2]          0          False     \n",
              "______________________________________________________________________\n",
              "Conv2d               [256, 2, 2]          589,824    False     \n",
              "______________________________________________________________________\n",
              "BatchNorm2d          [256, 2, 2]          512        True      \n",
              "______________________________________________________________________\n",
              "Conv2d               [512, 1, 1]          1,179,648  False     \n",
              "______________________________________________________________________\n",
              "BatchNorm2d          [512, 1, 1]          1,024      True      \n",
              "______________________________________________________________________\n",
              "ReLU                 [512, 1, 1]          0          False     \n",
              "______________________________________________________________________\n",
              "Conv2d               [512, 1, 1]          2,359,296  False     \n",
              "______________________________________________________________________\n",
              "BatchNorm2d          [512, 1, 1]          1,024      True      \n",
              "______________________________________________________________________\n",
              "Conv2d               [512, 1, 1]          131,072    False     \n",
              "______________________________________________________________________\n",
              "BatchNorm2d          [512, 1, 1]          1,024      True      \n",
              "______________________________________________________________________\n",
              "Conv2d               [512, 1, 1]          2,359,296  False     \n",
              "______________________________________________________________________\n",
              "BatchNorm2d          [512, 1, 1]          1,024      True      \n",
              "______________________________________________________________________\n",
              "ReLU                 [512, 1, 1]          0          False     \n",
              "______________________________________________________________________\n",
              "Conv2d               [512, 1, 1]          2,359,296  False     \n",
              "______________________________________________________________________\n",
              "BatchNorm2d          [512, 1, 1]          1,024      True      \n",
              "______________________________________________________________________\n",
              "AdaptiveAvgPool2d    [512, 1, 1]          0          False     \n",
              "______________________________________________________________________\n",
              "AdaptiveMaxPool2d    [512, 1, 1]          0          False     \n",
              "______________________________________________________________________\n",
              "Flatten              [1024]               0          False     \n",
              "______________________________________________________________________\n",
              "BatchNorm1d          [1024]               2,048      True      \n",
              "______________________________________________________________________\n",
              "Dropout              [1024]               0          False     \n",
              "______________________________________________________________________\n",
              "Linear               [512]                524,800    True      \n",
              "______________________________________________________________________\n",
              "ReLU                 [512]                0          False     \n",
              "______________________________________________________________________\n",
              "BatchNorm1d          [512]                1,024      True      \n",
              "______________________________________________________________________\n",
              "Dropout              [512]                0          False     \n",
              "______________________________________________________________________\n",
              "Linear               [2]                  1,026      True      \n",
              "______________________________________________________________________\n",
              "\n",
              "Total params: 11,705,410\n",
              "Total trainable params: 538,498\n",
              "Total non-trainable params: 11,166,912\n",
              "Optimized with 'torch.optim.adam.Adam', betas=(0.9, 0.99)\n",
              "Using true weight decay as discussed in https://www.fast.ai/2018/07/02/adam-weight-decay/ \n",
              "Loss function : FlattenedLoss\n",
              "======================================================================\n",
              "Callbacks functions applied "
            ]
          },
          "metadata": {
            "tags": []
          },
          "execution_count": 105
        }
      ]
    },
    {
      "cell_type": "code",
      "metadata": {
        "id": "QBZfWI6DmhPP",
        "colab_type": "code",
        "outputId": "63147a3f-5be5-4bf2-e2be-e2fe81f34af3",
        "colab": {
          "base_uri": "https://localhost:8080/",
          "height": 1000
        }
      },
      "source": [
        "# out of the box resnet18\n",
        "models.resnet18()"
      ],
      "execution_count": 43,
      "outputs": [
        {
          "output_type": "execute_result",
          "data": {
            "text/plain": [
              "ResNet(\n",
              "  (conv1): Conv2d(3, 64, kernel_size=(7, 7), stride=(2, 2), padding=(3, 3), bias=False)\n",
              "  (bn1): BatchNorm2d(64, eps=1e-05, momentum=0.1, affine=True, track_running_stats=True)\n",
              "  (relu): ReLU(inplace)\n",
              "  (maxpool): MaxPool2d(kernel_size=3, stride=2, padding=1, dilation=1, ceil_mode=False)\n",
              "  (layer1): Sequential(\n",
              "    (0): BasicBlock(\n",
              "      (conv1): Conv2d(64, 64, kernel_size=(3, 3), stride=(1, 1), padding=(1, 1), bias=False)\n",
              "      (bn1): BatchNorm2d(64, eps=1e-05, momentum=0.1, affine=True, track_running_stats=True)\n",
              "      (relu): ReLU(inplace)\n",
              "      (conv2): Conv2d(64, 64, kernel_size=(3, 3), stride=(1, 1), padding=(1, 1), bias=False)\n",
              "      (bn2): BatchNorm2d(64, eps=1e-05, momentum=0.1, affine=True, track_running_stats=True)\n",
              "    )\n",
              "    (1): BasicBlock(\n",
              "      (conv1): Conv2d(64, 64, kernel_size=(3, 3), stride=(1, 1), padding=(1, 1), bias=False)\n",
              "      (bn1): BatchNorm2d(64, eps=1e-05, momentum=0.1, affine=True, track_running_stats=True)\n",
              "      (relu): ReLU(inplace)\n",
              "      (conv2): Conv2d(64, 64, kernel_size=(3, 3), stride=(1, 1), padding=(1, 1), bias=False)\n",
              "      (bn2): BatchNorm2d(64, eps=1e-05, momentum=0.1, affine=True, track_running_stats=True)\n",
              "    )\n",
              "  )\n",
              "  (layer2): Sequential(\n",
              "    (0): BasicBlock(\n",
              "      (conv1): Conv2d(64, 128, kernel_size=(3, 3), stride=(2, 2), padding=(1, 1), bias=False)\n",
              "      (bn1): BatchNorm2d(128, eps=1e-05, momentum=0.1, affine=True, track_running_stats=True)\n",
              "      (relu): ReLU(inplace)\n",
              "      (conv2): Conv2d(128, 128, kernel_size=(3, 3), stride=(1, 1), padding=(1, 1), bias=False)\n",
              "      (bn2): BatchNorm2d(128, eps=1e-05, momentum=0.1, affine=True, track_running_stats=True)\n",
              "      (downsample): Sequential(\n",
              "        (0): Conv2d(64, 128, kernel_size=(1, 1), stride=(2, 2), bias=False)\n",
              "        (1): BatchNorm2d(128, eps=1e-05, momentum=0.1, affine=True, track_running_stats=True)\n",
              "      )\n",
              "    )\n",
              "    (1): BasicBlock(\n",
              "      (conv1): Conv2d(128, 128, kernel_size=(3, 3), stride=(1, 1), padding=(1, 1), bias=False)\n",
              "      (bn1): BatchNorm2d(128, eps=1e-05, momentum=0.1, affine=True, track_running_stats=True)\n",
              "      (relu): ReLU(inplace)\n",
              "      (conv2): Conv2d(128, 128, kernel_size=(3, 3), stride=(1, 1), padding=(1, 1), bias=False)\n",
              "      (bn2): BatchNorm2d(128, eps=1e-05, momentum=0.1, affine=True, track_running_stats=True)\n",
              "    )\n",
              "  )\n",
              "  (layer3): Sequential(\n",
              "    (0): BasicBlock(\n",
              "      (conv1): Conv2d(128, 256, kernel_size=(3, 3), stride=(2, 2), padding=(1, 1), bias=False)\n",
              "      (bn1): BatchNorm2d(256, eps=1e-05, momentum=0.1, affine=True, track_running_stats=True)\n",
              "      (relu): ReLU(inplace)\n",
              "      (conv2): Conv2d(256, 256, kernel_size=(3, 3), stride=(1, 1), padding=(1, 1), bias=False)\n",
              "      (bn2): BatchNorm2d(256, eps=1e-05, momentum=0.1, affine=True, track_running_stats=True)\n",
              "      (downsample): Sequential(\n",
              "        (0): Conv2d(128, 256, kernel_size=(1, 1), stride=(2, 2), bias=False)\n",
              "        (1): BatchNorm2d(256, eps=1e-05, momentum=0.1, affine=True, track_running_stats=True)\n",
              "      )\n",
              "    )\n",
              "    (1): BasicBlock(\n",
              "      (conv1): Conv2d(256, 256, kernel_size=(3, 3), stride=(1, 1), padding=(1, 1), bias=False)\n",
              "      (bn1): BatchNorm2d(256, eps=1e-05, momentum=0.1, affine=True, track_running_stats=True)\n",
              "      (relu): ReLU(inplace)\n",
              "      (conv2): Conv2d(256, 256, kernel_size=(3, 3), stride=(1, 1), padding=(1, 1), bias=False)\n",
              "      (bn2): BatchNorm2d(256, eps=1e-05, momentum=0.1, affine=True, track_running_stats=True)\n",
              "    )\n",
              "  )\n",
              "  (layer4): Sequential(\n",
              "    (0): BasicBlock(\n",
              "      (conv1): Conv2d(256, 512, kernel_size=(3, 3), stride=(2, 2), padding=(1, 1), bias=False)\n",
              "      (bn1): BatchNorm2d(512, eps=1e-05, momentum=0.1, affine=True, track_running_stats=True)\n",
              "      (relu): ReLU(inplace)\n",
              "      (conv2): Conv2d(512, 512, kernel_size=(3, 3), stride=(1, 1), padding=(1, 1), bias=False)\n",
              "      (bn2): BatchNorm2d(512, eps=1e-05, momentum=0.1, affine=True, track_running_stats=True)\n",
              "      (downsample): Sequential(\n",
              "        (0): Conv2d(256, 512, kernel_size=(1, 1), stride=(2, 2), bias=False)\n",
              "        (1): BatchNorm2d(512, eps=1e-05, momentum=0.1, affine=True, track_running_stats=True)\n",
              "      )\n",
              "    )\n",
              "    (1): BasicBlock(\n",
              "      (conv1): Conv2d(512, 512, kernel_size=(3, 3), stride=(1, 1), padding=(1, 1), bias=False)\n",
              "      (bn1): BatchNorm2d(512, eps=1e-05, momentum=0.1, affine=True, track_running_stats=True)\n",
              "      (relu): ReLU(inplace)\n",
              "      (conv2): Conv2d(512, 512, kernel_size=(3, 3), stride=(1, 1), padding=(1, 1), bias=False)\n",
              "      (bn2): BatchNorm2d(512, eps=1e-05, momentum=0.1, affine=True, track_running_stats=True)\n",
              "    )\n",
              "  )\n",
              "  (avgpool): AdaptiveAvgPool2d(output_size=(1, 1))\n",
              "  (fc): Linear(in_features=512, out_features=1000, bias=True)\n",
              ")"
            ]
          },
          "metadata": {
            "tags": []
          },
          "execution_count": 43
        }
      ]
    },
    {
      "cell_type": "markdown",
      "metadata": {
        "id": "vFO5kMkymhPU",
        "colab_type": "text"
      },
      "source": [
        "## fin"
      ]
    },
    {
      "cell_type": "code",
      "metadata": {
        "id": "EhTYQprhmhPV",
        "colab_type": "code",
        "colab": {}
      },
      "source": [
        ""
      ],
      "execution_count": 0,
      "outputs": []
    }
  ]
}